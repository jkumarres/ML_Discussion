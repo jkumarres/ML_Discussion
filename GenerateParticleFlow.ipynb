{
 "cells": [
  {
   "cell_type": "markdown",
   "metadata": {},
   "source": [
    "# Code to generate particle evolution snap-shots"
   ]
  },
  {
   "cell_type": "code",
   "execution_count": null,
   "metadata": {},
   "outputs": [],
   "source": [
    "import numpy as np\n",
    "import scipy as sp\n",
    "import scipy.interpolate\n",
    "import matplotlib.pyplot as plt\n",
    "import imageio\n",
    "import cv2"
   ]
  },
  {
   "cell_type": "markdown",
   "metadata": {},
   "source": [
    "## Load velocity fields"
   ]
  },
  {
   "cell_type": "code",
   "execution_count": null,
   "metadata": {},
   "outputs": [],
   "source": [
    "ForeGroundVx = np.load( 'Vx1.npy' )\n",
    "ForeGroundVy = np.load( 'Vy1.npy' )\n",
    "\n",
    "BackGroundVx = np.load( 'Vx2.npy' )\n",
    "BackGroundVy = np.load( 'Vy2.npy' )\n",
    "\n",
    "Height, Width = ForeGroundVx.shape\n",
    "\n",
    "if Height == Width :\n",
    "    GridSize = Height\n",
    "else :\n",
    "    print(\"ERROR!!\")"
   ]
  },
  {
   "cell_type": "markdown",
   "metadata": {},
   "source": [
    "## Parameters"
   ]
  },
  {
   "cell_type": "code",
   "execution_count": null,
   "metadata": {},
   "outputs": [],
   "source": [
    "NumberForeGroundParticles = 1000\n",
    "NumberBackGroundParticles = 1000\n",
    "\n",
    "SpeedRatio = 1/5\n",
    "\n",
    "BackGroundVx = BackGroundVx * SpeedRatio\n",
    "BackGroundVy = BackGroundVy * SpeedRatio"
   ]
  },
  {
   "cell_type": "code",
   "execution_count": null,
   "metadata": {},
   "outputs": [],
   "source": [
    "ForeGroundParticleX = (GridSize-1) * np.random.rand( NumberForeGroundParticles )\n",
    "ForeGroundParticleY = (GridSize-1) * np.random.rand( NumberForeGroundParticles )\n",
    "\n",
    "BackGroundParticleX = (GridSize-1) * np.random.rand( NumberBackGroundParticles )\n",
    "BackGroundParticleY = (GridSize-1) * np.random.rand( NumberBackGroundParticles )\n",
    "\n",
    "plt.plot( ForeGroundParticleX , ForeGroundParticleY , '.r' )\n",
    "plt.plot( BackGroundParticleX , BackGroundParticleY , '.b' )\n",
    "plt.axis('equal')\n",
    "plt.show()"
   ]
  },
  {
   "cell_type": "code",
   "execution_count": null,
   "metadata": {},
   "outputs": [],
   "source": [
    "GridXY = range(GridSize)\n",
    "\n",
    "ForeGroundVxInterp = sp.interpolate.RegularGridInterpolator( (GridXY , GridXY) , ForeGroundVx )\n",
    "ForeGroundVyInterp = sp.interpolate.RegularGridInterpolator( (GridXY , GridXY) , ForeGroundVy )\n",
    "\n",
    "BackGroundVxInterp = sp.interpolate.RegularGridInterpolator( (GridXY , GridXY) , BackGroundVx )\n",
    "BackGroundVyInterp = sp.interpolate.RegularGridInterpolator( (GridXY , GridXY) , BackGroundVy )"
   ]
  },
  {
   "cell_type": "code",
   "execution_count": null,
   "metadata": {},
   "outputs": [],
   "source": [
    "ForeGroundParticleVx = ForeGroundVxInterp( (ForeGroundParticleY , ForeGroundParticleX) )\n",
    "ForeGroundParticleVy = ForeGroundVyInterp( (ForeGroundParticleY , ForeGroundParticleX) )\n",
    "\n",
    "BackGroundParticleVx = BackGroundVxInterp( (BackGroundParticleY , BackGroundParticleX) )\n",
    "BackGroundParticleVy = BackGroundVyInterp( (BackGroundParticleY , BackGroundParticleX) )"
   ]
  },
  {
   "cell_type": "code",
   "execution_count": null,
   "metadata": {},
   "outputs": [],
   "source": [
    "fig = plt.figure(figsize=(4,4), dpi=300)\n",
    "fig.add_subplot(2,2,1)\n",
    "plt.quiver( ForeGroundParticleX , ForeGroundParticleY , ForeGroundParticleVx , ForeGroundParticleVy , units='width' )\n",
    "fig.add_subplot(2,2,2)\n",
    "plt.quiver( ForeGroundVx , ForeGroundVy , units='width' )\n",
    "fig.add_subplot(2,2,3)\n",
    "plt.quiver( BackGroundParticleX , BackGroundParticleY , BackGroundParticleVx , BackGroundParticleVy , units='width' )\n",
    "fig.add_subplot(2,2,4)\n",
    "plt.quiver( BackGroundVx , BackGroundVy , units='width' )\n",
    "plt.show()"
   ]
  },
  {
   "cell_type": "markdown",
   "metadata": {},
   "source": [
    "# Particle evolution"
   ]
  },
  {
   "cell_type": "code",
   "execution_count": null,
   "metadata": {},
   "outputs": [],
   "source": [
    "MaxIterations = 100\n",
    "dt = 10\n",
    "DisplayIteration = 10"
   ]
  },
  {
   "cell_type": "code",
   "execution_count": null,
   "metadata": {},
   "outputs": [],
   "source": [
    "images = []\n",
    "\n",
    "for Iteration in range( MaxIterations ):\n",
    "\n",
    "    # Estimate velocity at the particle position\n",
    "\n",
    "    ForeGroundParticleVx = ForeGroundVxInterp( (ForeGroundParticleY , ForeGroundParticleX) )\n",
    "    ForeGroundParticleVy = ForeGroundVyInterp( (ForeGroundParticleY , ForeGroundParticleX) )\n",
    "\n",
    "    BackGroundParticleVx = BackGroundVxInterp( (BackGroundParticleY , BackGroundParticleX) )\n",
    "    BackGroundParticleVy = BackGroundVyInterp( (BackGroundParticleY , BackGroundParticleX) )\n",
    "\n",
    "    # Euler time evolution method \n",
    "\n",
    "    ForeGroundParticleX = ForeGroundParticleX + dt * ForeGroundParticleVx\n",
    "    ForeGroundParticleY = ForeGroundParticleY + dt * ForeGroundParticleVy\n",
    "\n",
    "    BackGroundParticleX = BackGroundParticleX + dt * BackGroundParticleVx\n",
    "    BackGroundParticleY = BackGroundParticleY + dt * BackGroundParticleVy\n",
    "\n",
    "    # Applying periodic boundary condition\n",
    "\n",
    "    ForeGroundParticleX = np.mod( ForeGroundParticleX , GridSize-1 )\n",
    "    ForeGroundParticleY = np.mod( ForeGroundParticleY , GridSize-1 )\n",
    "\n",
    "    BackGroundParticleX = np.mod( BackGroundParticleX , GridSize-1 )\n",
    "    BackGroundParticleY = np.mod( BackGroundParticleY , GridSize-1 )\n",
    "\n",
    "    # Writing data\n",
    "\n",
    "    if np.mod( Iteration , DisplayIteration )==0 :\n",
    "        fig = plt.figure(figsize=(4,4), dpi=100)\n",
    "        ax = fig.gca()\n",
    "        #Image from plot\n",
    "        ax.axis('off')\n",
    "        fig.tight_layout(pad=0)\n",
    "\n",
    "        # To remove the huge white borders\n",
    "        ax.margins(0)\n",
    "\n",
    "        plt.plot( ForeGroundParticleX , ForeGroundParticleY , '.b' , markersize=1 )\n",
    "        plt.plot( BackGroundParticleX , BackGroundParticleY , '.r' , markersize=1 )\n",
    "        plt.axis('equal')\n",
    "        plt.axis('off')\n",
    "        plt.savefig('B.png',bbox_inches='tight',transparent=False,pad_inches = 0)\n",
    "        # fig.canvas.draw()\n",
    "        # image_from_plot = np.frombuffer(fig.canvas.tostring_rgb(), dtype=np.uint8)\n",
    "        I = plt.imread( 'B.png' )\n",
    "        images.append( I )\n",
    "        plt.show()\n",
    "\n",
    "imageio.mimsave('movie.gif', images)"
   ]
  },
  {
   "cell_type": "code",
   "execution_count": null,
   "metadata": {},
   "outputs": [],
   "source": [
    "import imageio\n",
    "images = []\n",
    "for filename in filenames:\n",
    "    images.append(imageio.imread(filename))\n",
    "imageio.mimsave('/path/to/movie.gif', images)"
   ]
  }
 ],
 "metadata": {
  "kernelspec": {
   "display_name": "Python 3.10.4 64-bit",
   "language": "python",
   "name": "python3"
  },
  "language_info": {
   "codemirror_mode": {
    "name": "ipython",
    "version": 3
   },
   "file_extension": ".py",
   "mimetype": "text/x-python",
   "name": "python",
   "nbconvert_exporter": "python",
   "pygments_lexer": "ipython3",
   "version": "3.10.4"
  },
  "orig_nbformat": 4,
  "vscode": {
   "interpreter": {
    "hash": "916dbcbb3f70747c44a77c7bcd40155683ae19c65e1c03b4aa3499c5328201f1"
   }
  }
 },
 "nbformat": 4,
 "nbformat_minor": 2
}
